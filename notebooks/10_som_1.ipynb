{
 "cells": [
  {
   "cell_type": "markdown",
   "metadata": {},
   "source": [
    "# Self Organizing Maps 1"
   ]
  },
  {
   "cell_type": "markdown",
   "metadata": {},
   "source": [
    "Group animals with similar properties by using self organizing maps."
   ]
  },
  {
   "cell_type": "code",
   "execution_count": 1,
   "metadata": {},
   "outputs": [],
   "source": [
    "import numpy as np; np.random.seed(0)\n",
    "\n",
    "from ann.som import som"
   ]
  },
  {
   "cell_type": "code",
   "execution_count": 2,
   "metadata": {},
   "outputs": [
    {
     "data": {
      "text/plain": [
       "[(1, 'grasshopper'),\n",
       " (2, 'dragonfly'),\n",
       " (3, 'beetle'),\n",
       " (6, 'butterfly'),\n",
       " (8, 'housefly'),\n",
       " (9, 'moskito'),\n",
       " (16, 'spider'),\n",
       " (23, 'pelican'),\n",
       " (27, 'duck'),\n",
       " (30, 'penguin'),\n",
       " (35, 'ostrich'),\n",
       " (40, 'frog'),\n",
       " (43, 'seaturtle'),\n",
       " (45, 'crocodile'),\n",
       " (51, 'walrus'),\n",
       " (54, 'dog'),\n",
       " (58, 'bear'),\n",
       " (61, 'hyena'),\n",
       " (66, 'skunk'),\n",
       " (69, 'lion'),\n",
       " (69, 'cat'),\n",
       " (72, 'ape'),\n",
       " (77, 'rat'),\n",
       " (80, 'bat'),\n",
       " (85, 'elephant'),\n",
       " (88, 'rabbit'),\n",
       " (89, 'kangaroo'),\n",
       " (92, 'antelope'),\n",
       " (96, 'pig'),\n",
       " (96, 'horse'),\n",
       " (99, 'camel'),\n",
       " (99, 'giraffe')]"
      ]
     },
     "execution_count": 2,
     "metadata": {},
     "output_type": "execute_result"
    }
   ],
   "source": [
    "animals = np.genfromtxt('../data/animals.dat', delimiter=',').reshape(32, 84)\n",
    "\n",
    "with open('../data/animalnames.txt', 'r') as f:\n",
    "    animal_names = [line.strip(\"'\\n\") for line in f]\n",
    "\n",
    "scores, order, _ = som(animals, outputs=100)\n",
    "\n",
    "[(scores[i], animal_names[i]) for i in order]"
   ]
  }
 ],
 "metadata": {
  "kernelspec": {
   "display_name": "Python 3",
   "language": "python",
   "name": "python3"
  },
  "language_info": {
   "codemirror_mode": {
    "name": "ipython",
    "version": 3
   },
   "file_extension": ".py",
   "mimetype": "text/x-python",
   "name": "python",
   "nbconvert_exporter": "python",
   "pygments_lexer": "ipython3",
   "version": "3.9.2"
  }
 },
 "nbformat": 4,
 "nbformat_minor": 2
}
